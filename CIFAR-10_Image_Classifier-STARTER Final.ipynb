{
 "cells": [
  {
   "cell_type": "markdown",
   "metadata": {},
   "source": [
    "# Introduction\n",
    "\n",
    "In this project, you will build a neural network of your own design to evaluate the CIFAR-10 dataset.\n",
    "Our target accuracy is 70%, but any accuracy over 50% is a great start.\n",
    "Some of the benchmark results on CIFAR-10 include:\n",
    "\n",
    "78.9% Accuracy | [Deep Belief Networks; Krizhevsky, 2010](https://www.cs.toronto.edu/~kriz/conv-cifar10-aug2010.pdf)\n",
    "\n",
    "90.6% Accuracy | [Maxout Networks; Goodfellow et al., 2013](https://arxiv.org/pdf/1302.4389.pdf)\n",
    "\n",
    "96.0% Accuracy | [Wide Residual Networks; Zagoruyko et al., 2016](https://arxiv.org/pdf/1605.07146.pdf)\n",
    "\n",
    "99.0% Accuracy | [GPipe; Huang et al., 2018](https://arxiv.org/pdf/1811.06965.pdf)\n",
    "\n",
    "98.5% Accuracy | [Rethinking Recurrent Neural Networks and other Improvements for ImageClassification; Nguyen et al., 2020](https://arxiv.org/pdf/2007.15161.pdf)\n",
    "\n",
    "Research with this dataset is ongoing. Notably, many of these networks are quite large and quite expensive to train. \n",
    "\n",
    "## Imports"
   ]
  },
  {
   "cell_type": "code",
   "execution_count": 3,
   "metadata": {},
   "outputs": [],
   "source": [
    "## This cell contains the essential imports you will need – DO NOT CHANGE THE CONTENTS! ##\n",
    "import torch\n",
    "import torch.nn as nn\n",
    "import torch.nn.functional as F\n",
    "import torch.optim as optim\n",
    "import torchvision\n",
    "import torchvision.transforms as transforms\n",
    "import matplotlib.pyplot as plt\n",
    "import numpy as np"
   ]
  },
  {
   "cell_type": "markdown",
   "metadata": {},
   "source": [
    "## Load the Dataset\n",
    "\n",
    "Specify your transforms as a list first.\n",
    "The transforms module is already loaded as `transforms`.\n",
    "\n",
    "CIFAR-10 is fortunately included in the torchvision module.\n",
    "Then, you can create your dataset using the `CIFAR10` object from `torchvision.datasets` ([the documentation is available here](https://pytorch.org/docs/stable/torchvision/datasets.html#cifar)).\n",
    "Make sure to specify `download=True`! \n",
    "\n",
    "Once your dataset is created, you'll also need to define a `DataLoader` from the `torch.utils.data` module for both the train and the test set."
   ]
  },
  {
   "cell_type": "code",
   "execution_count": 4,
   "metadata": {},
   "outputs": [
    {
     "name": "stdout",
     "output_type": "stream",
     "text": [
      "Files already downloaded and verified\n",
      "Files already downloaded and verified\n"
     ]
    }
   ],
   "source": [
    "# Define transforms\n",
    "transform = transforms.Compose(\n",
    "  [transforms.ToTensor(),\n",
    "   transforms.Normalize((0.5, 0.5, 0.5), (0.5, 0.5, 0.5))])\n",
    "\n",
    "# Create training set and define training dataloader\n",
    "trainset = torchvision.datasets.CIFAR10(root='./data', train=True,\n",
    "                    download=True, transform=transform)\n",
    "trainloader = torch.utils.data.DataLoader(trainset, batch_size=5,\n",
    "                      shuffle=True, num_workers=2)\n",
    "\n",
    "# Create test set and define test dataloader\n",
    "testset = torchvision.datasets.CIFAR10(root='./data', train=False,\n",
    "                     download=True, transform=transform)\n",
    "testloader = torch.utils.data.DataLoader(testset, batch_size=5,\n",
    "                     shuffle=False, num_workers=2)\n",
    "\n",
    "# The 10 classes in the dataset\n",
    "classes = ('plane', 'car', 'bird', 'cat', 'deer', 'dog', 'frog', 'horse', 'ship', 'truck')"
   ]
  },
  {
   "cell_type": "markdown",
   "metadata": {},
   "source": [
    "## Explore the Dataset\n",
    "Using matplotlib, numpy, and torch, explore the dimensions of your data.\n",
    "\n",
    "You can view images using the `show5` function defined below – it takes a data loader as an argument.\n",
    "Remember that normalized images will look really weird to you! You may want to try changing your transforms to view images.\n",
    "Typically using no transforms other than `toTensor()` works well for viewing – but not as well for training your network.\n",
    "If `show5` doesn't work, go back and check your code for creating your data loaders and your training/test sets."
   ]
  },
  {
   "cell_type": "code",
   "execution_count": 12,
   "metadata": {},
   "outputs": [],
   "source": [
    "def show5(img_loader):\n",
    "    dataiter = iter(img_loader)\n",
    "    \n",
    "    batch = next(dataiter)\n",
    "    labels = batch[1][0:5]\n",
    "    images = batch[0][0:5]\n",
    "    for i in range(5):\n",
    "        print(classes[labels[i]])\n",
    "    \n",
    "        image = images[i].numpy()\n",
    "        plt.imshow(image.T)\n",
    "        plt.show()"
   ]
  },
  {
   "cell_type": "code",
   "execution_count": 13,
   "metadata": {},
   "outputs": [
    {
     "name": "stderr",
     "output_type": "stream",
     "text": [
      "Clipping input data to the valid range for imshow with RGB data ([0..1] for floats or [0..255] for integers). Got range [-0.94509804..1.0].\n"
     ]
    },
    {
     "name": "stdout",
     "output_type": "stream",
     "text": [
      "truck\n"
     ]
    },
    {
     "data": {
      "image/png": "[encoded data removed]",
      "text/plain": [
       "<Figure size 640x480 with 1 Axes>"
      ]
     },
     "metadata": {},
     "output_type": "display_data"
    },
    {
     "name": "stderr",
     "output_type": "stream",
     "text": [
      "Clipping input data to the valid range for imshow with RGB data ([0..1] for floats or [0..255] for integers). Got range [-0.96862745..0.99215686].\n"
     ]
    },
    {
     "name": "stdout",
     "output_type": "stream",
     "text": [
      "cat\n"
     ]
    },
    {
     "data": {
      "image/png": "[encoded data removed]",
      "text/plain": [
       "<Figure size 640x480 with 1 Axes>"
      ]
     },
     "metadata": {},
     "output_type": "display_data"
    },
    {
     "name": "stderr",
     "output_type": "stream",
     "text": [
      "Clipping input data to the valid range for imshow with RGB data ([0..1] for floats or [0..255] for integers). Got range [-0.9529412..1.0].\n"
     ]
    },
    {
     "name": "stdout",
     "output_type": "stream",
     "text": [
      "truck\n"
     ]
    },
    {
     "data": {
      "image/png": "[encoded data removed]",
      "text/plain": [
       "<Figure size 640x480 with 1 Axes>"
      ]
     },
     "metadata": {},
     "output_type": "display_data"
    },
    {
     "name": "stderr",
     "output_type": "stream",
     "text": [
      "Clipping input data to the valid range for imshow with RGB data ([0..1] for floats or [0..255] for integers). Got range [-1.0..0.9372549].\n"
     ]
    },
    {
     "name": "stdout",
     "output_type": "stream",
     "text": [
      "bird\n"
     ]
    },
    {
     "data": {
      "image/png": "[encoded data removed]",
      "text/plain": [
       "<Figure size 640x480 with 1 Axes>"
      ]
     },
     "metadata": {},
     "output_type": "display_data"
    },
    {
     "name": "stderr",
     "output_type": "stream",
     "text": [
      "Clipping input data to the valid range for imshow with RGB data ([0..1] for floats or [0..255] for integers). Got range [-0.9764706..0.67058825].\n"
     ]
    },
    {
     "name": "stdout",
     "output_type": "stream",
     "text": [
      "horse\n"
     ]
    },
    {
     "data": {
      "image/png": "[encoded data removed]",
      "text/plain": [
       "<Figure size 640x480 with 1 Axes>"
      ]
     },
     "metadata": {},
     "output_type": "display_data"
    }
   ],
   "source": [
    "# Explore data\n",
    "show5(trainloader)"
   ]
  },
  {
   "cell_type": "markdown",
   "metadata": {},
   "source": [
    "## Build your Neural Network\n",
    "Using the layers in `torch.nn` (which has been imported as `nn`) and the `torch.nn.functional` module (imported as `F`), construct a neural network based on the parameters of the dataset. \n",
    "Feel free to construct a model of any architecture – feedforward, convolutional, or even something more advanced!"
   ]
  },
  {
   "cell_type": "code",
   "execution_count": 6,
   "metadata": {},
   "outputs": [],
   "source": [
    "class Net(nn.Module):\n",
    "  def __init__(self):\n",
    "    super(Net, self).__init__()\n",
    "    self.conv1 = nn.Conv2d(3, 32, 3, padding=1)\n",
    "    self.bn1 = nn.BatchNorm2d(32)\n",
    "    self.conv2 = nn.Conv2d(32, 64, 3, padding=1)\n",
    "    self.bn2 = nn.BatchNorm2d(64)\n",
    "    self.pool = nn.MaxPool2d(2, 2)\n",
    "    self.conv3 = nn.Conv2d(64, 128, 3, padding=1)\n",
    "    self.bn3 = nn.BatchNorm2d(128)\n",
    "    self.fc1 = nn.Linear(128 * 4 * 4, 512)\n",
    "    self.dropout = nn.Dropout(0.5)\n",
    "    self.fc2 = nn.Linear(512, 256)\n",
    "    self.fc3 = nn.Linear(256, 10)\n",
    "\n",
    "  def forward(self, x):\n",
    "    x = self.pool(F.relu(self.bn1(self.conv1(x))))\n",
    "    x = self.pool(F.relu(self.bn2(self.conv2(x))))\n",
    "    x = self.pool(F.relu(self.bn3(self.conv3(x))))\n",
    "    x = x.view(-1, 128 * 4 * 4)\n",
    "    x = F.relu(self.fc1(x))\n",
    "    x = self.dropout(x)\n",
    "    x = F.relu(self.fc2(x))\n",
    "    x = self.fc3(x)\n",
    "    return x\n",
    "\n",
    "net = Net()"
   ]
  },
  {
   "cell_type": "markdown",
   "metadata": {},
   "source": [
    "Specify a loss function and an optimizer, and instantiate the model.\n",
    "\n",
    "If you use a less common loss function, please note why you chose that loss function in a comment."
   ]
  },
  {
   "cell_type": "code",
   "execution_count": 7,
   "metadata": {},
   "outputs": [],
   "source": [
    "# Define the loss function and optimizer\n",
    "criterion = nn.CrossEntropyLoss()  # Cross-entropy loss is suitable for multi-class classification tasks\n",
    "optimizer = optim.Adam(net.parameters(), lr=0.001)  # Adam optimizer with a learning rate of 0.001"
   ]
  },
  {
   "cell_type": "markdown",
   "metadata": {},
   "source": [
    "## Running your Neural Network\n",
    "Use whatever method you like to train your neural network, and ensure you record the average loss at each epoch. \n",
    "Don't forget to use `torch.device()` and the `.to()` method for both your model and your data if you are using GPU!\n",
    "\n",
    "If you want to print your loss during each epoch, you can use the `enumerate` function and print the loss after a set number of batches. 250 batches works well for most people!"
   ]
  },
  {
   "cell_type": "code",
   "execution_count": 8,
   "metadata": {},
   "outputs": [
    {
     "name": "stdout",
     "output_type": "stream",
     "text": [
      "[Epoch 1, Batch 250] loss: 2.230\n",
      "[Epoch 1, Batch 500] loss: 2.055\n",
      "[Epoch 1, Batch 750] loss: 1.993\n",
      "[Epoch 1, Batch 1000] loss: 1.910\n",
      "[Epoch 1, Batch 1250] loss: 1.914\n",
      "[Epoch 1, Batch 1500] loss: 1.852\n",
      "[Epoch 1, Batch 1750] loss: 1.830\n",
      "[Epoch 1, Batch 2000] loss: 1.792\n",
      "[Epoch 1, Batch 2250] loss: 1.756\n",
      "[Epoch 1, Batch 2500] loss: 1.794\n",
      "[Epoch 1, Batch 2750] loss: 1.746\n",
      "[Epoch 1, Batch 3000] loss: 1.657\n",
      "[Epoch 1, Batch 3250] loss: 1.667\n",
      "[Epoch 1, Batch 3500] loss: 1.660\n",
      "[Epoch 1, Batch 3750] loss: 1.669\n",
      "[Epoch 1, Batch 4000] loss: 1.627\n",
      "[Epoch 1, Batch 4250] loss: 1.587\n",
      "[Epoch 1, Batch 4500] loss: 1.592\n",
      "[Epoch 1, Batch 4750] loss: 1.575\n",
      "[Epoch 1, Batch 5000] loss: 1.588\n",
      "[Epoch 1, Batch 5250] loss: 1.547\n",
      "[Epoch 1, Batch 5500] loss: 1.565\n",
      "[Epoch 1, Batch 5750] loss: 1.507\n",
      "[Epoch 1, Batch 6000] loss: 1.485\n",
      "[Epoch 1, Batch 6250] loss: 1.488\n",
      "[Epoch 1, Batch 6500] loss: 1.458\n",
      "[Epoch 1, Batch 6750] loss: 1.467\n",
      "[Epoch 1, Batch 7000] loss: 1.503\n",
      "[Epoch 1, Batch 7250] loss: 1.459\n",
      "[Epoch 1, Batch 7500] loss: 1.431\n",
      "[Epoch 1, Batch 7750] loss: 1.377\n",
      "[Epoch 1, Batch 8000] loss: 1.467\n",
      "[Epoch 1, Batch 8250] loss: 1.451\n",
      "[Epoch 1, Batch 8500] loss: 1.384\n",
      "[Epoch 1, Batch 8750] loss: 1.426\n",
      "[Epoch 1, Batch 9000] loss: 1.335\n",
      "[Epoch 1, Batch 9250] loss: 1.354\n",
      "[Epoch 1, Batch 9500] loss: 1.280\n",
      "[Epoch 1, Batch 9750] loss: 1.379\n",
      "[Epoch 1, Batch 10000] loss: 1.323\n",
      "[Epoch 2, Batch 250] loss: 1.297\n",
      "[Epoch 2, Batch 500] loss: 1.318\n",
      "[Epoch 2, Batch 750] loss: 1.296\n",
      "[Epoch 2, Batch 1000] loss: 1.304\n",
      "[Epoch 2, Batch 1250] loss: 1.303\n",
      "[Epoch 2, Batch 1500] loss: 1.280\n",
      "[Epoch 2, Batch 1750] loss: 1.299\n",
      "[Epoch 2, Batch 2000] loss: 1.247\n",
      "[Epoch 2, Batch 2250] loss: 1.262\n",
      "[Epoch 2, Batch 2500] loss: 1.208\n",
      "[Epoch 2, Batch 2750] loss: 1.227\n",
      "[Epoch 2, Batch 3000] loss: 1.201\n",
      "[Epoch 2, Batch 3250] loss: 1.241\n",
      "[Epoch 2, Batch 3500] loss: 1.228\n",
      "[Epoch 2, Batch 3750] loss: 1.174\n",
      "[Epoch 2, Batch 4000] loss: 1.239\n",
      "[Epoch 2, Batch 4250] loss: 1.238\n",
      "[Epoch 2, Batch 4500] loss: 1.223\n",
      "[Epoch 2, Batch 4750] loss: 1.209\n",
      "[Epoch 2, Batch 5000] loss: 1.185\n",
      "[Epoch 2, Batch 5250] loss: 1.205\n",
      "[Epoch 2, Batch 5500] loss: 1.195\n",
      "[Epoch 2, Batch 5750] loss: 1.154\n",
      "[Epoch 2, Batch 6000] loss: 1.215\n",
      "[Epoch 2, Batch 6250] loss: 1.206\n",
      "[Epoch 2, Batch 6500] loss: 1.190\n",
      "[Epoch 2, Batch 6750] loss: 1.168\n",
      "[Epoch 2, Batch 7000] loss: 1.260\n",
      "[Epoch 2, Batch 7250] loss: 1.135\n",
      "[Epoch 2, Batch 7500] loss: 1.182\n",
      "[Epoch 2, Batch 7750] loss: 1.154\n",
      "[Epoch 2, Batch 8000] loss: 1.155\n",
      "[Epoch 2, Batch 8250] loss: 1.124\n",
      "[Epoch 2, Batch 8500] loss: 1.188\n",
      "[Epoch 2, Batch 8750] loss: 1.175\n",
      "[Epoch 2, Batch 9000] loss: 1.128\n",
      "[Epoch 2, Batch 9250] loss: 1.142\n",
      "[Epoch 2, Batch 9500] loss: 1.194\n",
      "[Epoch 2, Batch 9750] loss: 1.157\n",
      "[Epoch 2, Batch 10000] loss: 1.095\n",
      "[Epoch 3, Batch 250] loss: 1.104\n",
      "[Epoch 3, Batch 500] loss: 1.042\n",
      "[Epoch 3, Batch 750] loss: 1.001\n",
      "[Epoch 3, Batch 1000] loss: 1.124\n",
      "[Epoch 3, Batch 1250] loss: 1.083\n",
      "[Epoch 3, Batch 1500] loss: 1.112\n",
      "[Epoch 3, Batch 1750] loss: 1.083\n",
      "[Epoch 3, Batch 2000] loss: 1.087\n",
      "[Epoch 3, Batch 2250] loss: 1.129\n",
      "[Epoch 3, Batch 2500] loss: 1.059\n",
      "[Epoch 3, Batch 2750] loss: 1.063\n",
      "[Epoch 3, Batch 3000] loss: 1.060\n",
      "[Epoch 3, Batch 3250] loss: 1.059\n",
      "[Epoch 3, Batch 3500] loss: 1.086\n",
      "[Epoch 3, Batch 3750] loss: 1.113\n",
      "[Epoch 3, Batch 4000] loss: 1.089\n",
      "[Epoch 3, Batch 4250] loss: 1.060\n",
      "[Epoch 3, Batch 4500] loss: 1.054\n",
      "[Epoch 3, Batch 4750] loss: 1.105\n",
      "[Epoch 3, Batch 5000] loss: 1.051\n",
      "[Epoch 3, Batch 5250] loss: 1.035\n",
      "[Epoch 3, Batch 5500] loss: 1.003\n",
      "[Epoch 3, Batch 5750] loss: 1.041\n",
      "[Epoch 3, Batch 6000] loss: 1.048\n",
      "[Epoch 3, Batch 6250] loss: 1.081\n",
      "[Epoch 3, Batch 6500] loss: 0.990\n",
      "[Epoch 3, Batch 6750] loss: 1.057\n",
      "[Epoch 3, Batch 7000] loss: 1.049\n",
      "[Epoch 3, Batch 7250] loss: 0.985\n",
      "[Epoch 3, Batch 7500] loss: 0.996\n",
      "[Epoch 3, Batch 7750] loss: 1.075\n",
      "[Epoch 3, Batch 8000] loss: 1.002\n",
      "[Epoch 3, Batch 8250] loss: 1.022\n",
      "[Epoch 3, Batch 8500] loss: 1.084\n",
      "[Epoch 3, Batch 8750] loss: 1.023\n",
      "[Epoch 3, Batch 9000] loss: 1.016\n",
      "[Epoch 3, Batch 9250] loss: 1.016\n",
      "[Epoch 3, Batch 9500] loss: 1.022\n",
      "[Epoch 3, Batch 9750] loss: 1.057\n",
      "[Epoch 3, Batch 10000] loss: 0.999\n",
      "[Epoch 4, Batch 250] loss: 0.919\n",
      "[Epoch 4, Batch 500] loss: 0.913\n",
      "[Epoch 4, Batch 750] loss: 0.936\n",
      "[Epoch 4, Batch 1000] loss: 0.953\n",
      "[Epoch 4, Batch 1250] loss: 1.001\n",
      "[Epoch 4, Batch 1500] loss: 1.028\n",
      "[Epoch 4, Batch 1750] loss: 0.948\n",
      "[Epoch 4, Batch 2000] loss: 0.890\n",
      "[Epoch 4, Batch 2250] loss: 0.959\n",
      "[Epoch 4, Batch 2500] loss: 0.971\n",
      "[Epoch 4, Batch 2750] loss: 0.965\n",
      "[Epoch 4, Batch 3000] loss: 0.955\n",
      "[Epoch 4, Batch 3250] loss: 0.995\n",
      "[Epoch 4, Batch 3500] loss: 0.948\n",
      "[Epoch 4, Batch 3750] loss: 0.896\n",
      "[Epoch 4, Batch 4000] loss: 0.971\n",
      "[Epoch 4, Batch 4250] loss: 0.973\n",
      "[Epoch 4, Batch 4500] loss: 0.980\n",
      "[Epoch 4, Batch 4750] loss: 0.985\n",
      "[Epoch 4, Batch 5000] loss: 0.980\n",
      "[Epoch 4, Batch 5250] loss: 0.969\n",
      "[Epoch 4, Batch 5500] loss: 0.940\n",
      "[Epoch 4, Batch 5750] loss: 0.953\n",
      "[Epoch 4, Batch 6000] loss: 0.892\n",
      "[Epoch 4, Batch 6250] loss: 0.974\n",
      "[Epoch 4, Batch 6500] loss: 0.917\n",
      "[Epoch 4, Batch 6750] loss: 0.945\n",
      "[Epoch 4, Batch 7000] loss: 0.927\n",
      "[Epoch 4, Batch 7250] loss: 0.897\n",
      "[Epoch 4, Batch 7500] loss: 0.924\n",
      "[Epoch 4, Batch 7750] loss: 0.947\n",
      "[Epoch 4, Batch 8000] loss: 0.957\n",
      "[Epoch 4, Batch 8250] loss: 0.916\n",
      "[Epoch 4, Batch 8500] loss: 0.954\n",
      "[Epoch 4, Batch 8750] loss: 0.919\n",
      "[Epoch 4, Batch 9000] loss: 0.884\n",
      "[Epoch 4, Batch 9250] loss: 0.950\n",
      "[Epoch 4, Batch 9500] loss: 0.976\n",
      "[Epoch 4, Batch 9750] loss: 0.984\n",
      "[Epoch 4, Batch 10000] loss: 0.957\n",
      "[Epoch 5, Batch 250] loss: 0.821\n",
      "[Epoch 5, Batch 500] loss: 0.911\n",
      "[Epoch 5, Batch 750] loss: 0.916\n",
      "[Epoch 5, Batch 1000] loss: 0.835\n",
      "[Epoch 5, Batch 1250] loss: 0.890\n",
      "[Epoch 5, Batch 1500] loss: 0.843\n",
      "[Epoch 5, Batch 1750] loss: 0.902\n",
      "[Epoch 5, Batch 2000] loss: 0.921\n",
      "[Epoch 5, Batch 2250] loss: 0.906\n",
      "[Epoch 5, Batch 2500] loss: 0.924\n",
      "[Epoch 5, Batch 2750] loss: 0.908\n",
      "[Epoch 5, Batch 3000] loss: 0.862\n",
      "[Epoch 5, Batch 3250] loss: 0.895\n",
      "[Epoch 5, Batch 3500] loss: 0.857\n",
      "[Epoch 5, Batch 3750] loss: 0.901\n",
      "[Epoch 5, Batch 4000] loss: 0.831\n",
      "[Epoch 5, Batch 4250] loss: 0.833\n",
      "[Epoch 5, Batch 4500] loss: 0.860\n",
      "[Epoch 5, Batch 4750] loss: 0.889\n",
      "[Epoch 5, Batch 5000] loss: 0.872\n",
      "[Epoch 5, Batch 5250] loss: 0.876\n",
      "[Epoch 5, Batch 5500] loss: 0.832\n",
      "[Epoch 5, Batch 5750] loss: 0.846\n",
      "[Epoch 5, Batch 6000] loss: 0.920\n",
      "[Epoch 5, Batch 6250] loss: 0.890\n",
      "[Epoch 5, Batch 6500] loss: 0.853\n",
      "[Epoch 5, Batch 6750] loss: 0.874\n",
      "[Epoch 5, Batch 7000] loss: 0.854\n",
      "[Epoch 5, Batch 7250] loss: 0.901\n",
      "[Epoch 5, Batch 7500] loss: 0.894\n",
      "[Epoch 5, Batch 7750] loss: 0.828\n",
      "[Epoch 5, Batch 8000] loss: 0.882\n",
      "[Epoch 5, Batch 8250] loss: 0.853\n",
      "[Epoch 5, Batch 8500] loss: 0.866\n",
      "[Epoch 5, Batch 8750] loss: 0.855\n",
      "[Epoch 5, Batch 9000] loss: 0.852\n",
      "[Epoch 5, Batch 9250] loss: 0.852\n",
      "[Epoch 5, Batch 9500] loss: 0.885\n",
      "[Epoch 5, Batch 9750] loss: 0.854\n",
      "[Epoch 5, Batch 10000] loss: 0.912\n",
      "[Epoch 6, Batch 250] loss: 0.783\n",
      "[Epoch 6, Batch 500] loss: 0.756\n",
      "[Epoch 6, Batch 750] loss: 0.783\n",
      "[Epoch 6, Batch 1000] loss: 0.775\n",
      "[Epoch 6, Batch 1250] loss: 0.803\n",
      "[Epoch 6, Batch 1500] loss: 0.749\n",
      "[Epoch 6, Batch 1750] loss: 0.839\n",
      "[Epoch 6, Batch 2000] loss: 0.792\n",
      "[Epoch 6, Batch 2250] loss: 0.786\n",
      "[Epoch 6, Batch 2500] loss: 0.781\n",
      "[Epoch 6, Batch 2750] loss: 0.801\n",
      "[Epoch 6, Batch 3000] loss: 0.840\n",
      "[Epoch 6, Batch 3250] loss: 0.781\n",
      "[Epoch 6, Batch 3500] loss: 0.821\n",
      "[Epoch 6, Batch 3750] loss: 0.814\n",
      "[Epoch 6, Batch 4000] loss: 0.819\n",
      "[Epoch 6, Batch 4250] loss: 0.767\n",
      "[Epoch 6, Batch 4500] loss: 0.845\n",
      "[Epoch 6, Batch 4750] loss: 0.815\n",
      "[Epoch 6, Batch 5000] loss: 0.810\n",
      "[Epoch 6, Batch 5250] loss: 0.773\n",
      "[Epoch 6, Batch 5500] loss: 0.782\n",
      "[Epoch 6, Batch 5750] loss: 0.793\n",
      "[Epoch 6, Batch 6000] loss: 0.795\n",
      "[Epoch 6, Batch 6250] loss: 0.800\n",
      "[Epoch 6, Batch 6500] loss: 0.806\n",
      "[Epoch 6, Batch 6750] loss: 0.907\n",
      "[Epoch 6, Batch 7000] loss: 0.786\n",
      "[Epoch 6, Batch 7250] loss: 0.858\n",
      "[Epoch 6, Batch 7500] loss: 0.820\n",
      "[Epoch 6, Batch 7750] loss: 0.831\n",
      "[Epoch 6, Batch 8000] loss: 0.833\n",
      "[Epoch 6, Batch 8250] loss: 0.842\n",
      "[Epoch 6, Batch 8500] loss: 0.821\n",
      "[Epoch 6, Batch 8750] loss: 0.830\n",
      "[Epoch 6, Batch 9000] loss: 0.802\n",
      "[Epoch 6, Batch 9250] loss: 0.830\n",
      "[Epoch 6, Batch 9500] loss: 0.872\n",
      "[Epoch 6, Batch 9750] loss: 0.845\n",
      "[Epoch 6, Batch 10000] loss: 0.816\n",
      "[Epoch 7, Batch 250] loss: 0.732\n",
      "[Epoch 7, Batch 500] loss: 0.758\n",
      "[Epoch 7, Batch 750] loss: 0.754\n",
      "[Epoch 7, Batch 1000] loss: 0.724\n",
      "[Epoch 7, Batch 1250] loss: 0.789\n",
      "[Epoch 7, Batch 1500] loss: 0.690\n",
      "[Epoch 7, Batch 1750] loss: 0.753\n",
      "[Epoch 7, Batch 2000] loss: 0.709\n",
      "[Epoch 7, Batch 2250] loss: 0.779\n",
      "[Epoch 7, Batch 2500] loss: 0.760\n",
      "[Epoch 7, Batch 2750] loss: 0.755\n",
      "[Epoch 7, Batch 3000] loss: 0.718\n",
      "[Epoch 7, Batch 3250] loss: 0.831\n",
      "[Epoch 7, Batch 3500] loss: 0.715\n",
      "[Epoch 7, Batch 3750] loss: 0.737\n",
      "[Epoch 7, Batch 4000] loss: 0.741\n",
      "[Epoch 7, Batch 4250] loss: 0.776\n",
      "[Epoch 7, Batch 4500] loss: 0.693\n",
      "[Epoch 7, Batch 4750] loss: 0.699\n",
      "[Epoch 7, Batch 5000] loss: 0.767\n",
      "[Epoch 7, Batch 5250] loss: 0.744\n",
      "[Epoch 7, Batch 5500] loss: 0.805\n",
      "[Epoch 7, Batch 5750] loss: 0.717\n",
      "[Epoch 7, Batch 6000] loss: 0.782\n",
      "[Epoch 7, Batch 6250] loss: 0.728\n",
      "[Epoch 7, Batch 6500] loss: 0.688\n",
      "[Epoch 7, Batch 6750] loss: 0.804\n",
      "[Epoch 7, Batch 7000] loss: 0.748\n",
      "[Epoch 7, Batch 7250] loss: 0.814\n",
      "[Epoch 7, Batch 7500] loss: 0.833\n",
      "[Epoch 7, Batch 7750] loss: 0.848\n",
      "[Epoch 7, Batch 8000] loss: 0.748\n",
      "[Epoch 7, Batch 8250] loss: 0.839\n",
      "[Epoch 7, Batch 8500] loss: 0.808\n",
      "[Epoch 7, Batch 8750] loss: 0.822\n",
      "[Epoch 7, Batch 9000] loss: 0.744\n",
      "[Epoch 7, Batch 9250] loss: 0.755\n",
      "[Epoch 7, Batch 9500] loss: 0.714\n",
      "[Epoch 7, Batch 9750] loss: 0.797\n",
      "[Epoch 7, Batch 10000] loss: 0.796\n",
      "[Epoch 8, Batch 250] loss: 0.668\n",
      "[Epoch 8, Batch 500] loss: 0.685\n",
      "[Epoch 8, Batch 750] loss: 0.654\n",
      "[Epoch 8, Batch 1000] loss: 0.736\n",
      "[Epoch 8, Batch 1250] loss: 0.716\n",
      "[Epoch 8, Batch 1500] loss: 0.690\n",
      "[Epoch 8, Batch 1750] loss: 0.676\n",
      "[Epoch 8, Batch 2000] loss: 0.714\n",
      "[Epoch 8, Batch 2250] loss: 0.667\n",
      "[Epoch 8, Batch 2500] loss: 0.683\n",
      "[Epoch 8, Batch 2750] loss: 0.706\n",
      "[Epoch 8, Batch 3000] loss: 0.727\n",
      "[Epoch 8, Batch 3250] loss: 0.700\n",
      "[Epoch 8, Batch 3500] loss: 0.740\n",
      "[Epoch 8, Batch 3750] loss: 0.745\n",
      "[Epoch 8, Batch 4000] loss: 0.711\n",
      "[Epoch 8, Batch 4250] loss: 0.710\n",
      "[Epoch 8, Batch 4500] loss: 0.697\n",
      "[Epoch 8, Batch 4750] loss: 0.723\n",
      "[Epoch 8, Batch 5000] loss: 0.740\n",
      "[Epoch 8, Batch 5250] loss: 0.728\n",
      "[Epoch 8, Batch 5500] loss: 0.735\n",
      "[Epoch 8, Batch 5750] loss: 0.723\n",
      "[Epoch 8, Batch 6000] loss: 0.749\n",
      "[Epoch 8, Batch 6250] loss: 0.762\n",
      "[Epoch 8, Batch 6500] loss: 0.743\n",
      "[Epoch 8, Batch 6750] loss: 0.736\n",
      "[Epoch 8, Batch 7000] loss: 0.708\n",
      "[Epoch 8, Batch 7250] loss: 0.685\n",
      "[Epoch 8, Batch 7500] loss: 0.746\n",
      "[Epoch 8, Batch 7750] loss: 0.687\n",
      "[Epoch 8, Batch 8000] loss: 0.701\n",
      "[Epoch 8, Batch 8250] loss: 0.755\n",
      "[Epoch 8, Batch 8500] loss: 0.777\n",
      "[Epoch 8, Batch 8750] loss: 0.699\n",
      "[Epoch 8, Batch 9000] loss: 0.774\n",
      "[Epoch 8, Batch 9250] loss: 0.723\n",
      "[Epoch 8, Batch 9500] loss: 0.704\n",
      "[Epoch 8, Batch 9750] loss: 0.757\n",
      "[Epoch 8, Batch 10000] loss: 0.731\n",
      "[Epoch 9, Batch 250] loss: 0.651\n",
      "[Epoch 9, Batch 500] loss: 0.644\n",
      "[Epoch 9, Batch 750] loss: 0.638\n",
      "[Epoch 9, Batch 1000] loss: 0.658\n",
      "[Epoch 9, Batch 1250] loss: 0.592\n",
      "[Epoch 9, Batch 1500] loss: 0.627\n",
      "[Epoch 9, Batch 1750] loss: 0.667\n",
      "[Epoch 9, Batch 2000] loss: 0.717\n",
      "[Epoch 9, Batch 2250] loss: 0.672\n",
      "[Epoch 9, Batch 2500] loss: 0.723\n",
      "[Epoch 9, Batch 2750] loss: 0.692\n",
      "[Epoch 9, Batch 3000] loss: 0.720\n",
      "[Epoch 9, Batch 3250] loss: 0.714\n",
      "[Epoch 9, Batch 3500] loss: 0.685\n",
      "[Epoch 9, Batch 3750] loss: 0.668\n",
      "[Epoch 9, Batch 4000] loss: 0.659\n",
      "[Epoch 9, Batch 4250] loss: 0.684\n",
      "[Epoch 9, Batch 4500] loss: 0.659\n",
      "[Epoch 9, Batch 4750] loss: 0.653\n",
      "[Epoch 9, Batch 5000] loss: 0.681\n",
      "[Epoch 9, Batch 5250] loss: 0.662\n",
      "[Epoch 9, Batch 5500] loss: 0.656\n",
      "[Epoch 9, Batch 5750] loss: 0.675\n",
      "[Epoch 9, Batch 6000] loss: 0.719\n",
      "[Epoch 9, Batch 6250] loss: 0.649\n",
      "[Epoch 9, Batch 6500] loss: 0.596\n",
      "[Epoch 9, Batch 6750] loss: 0.701\n",
      "[Epoch 9, Batch 7000] loss: 0.757\n",
      "[Epoch 9, Batch 7250] loss: 0.661\n",
      "[Epoch 9, Batch 7500] loss: 0.658\n",
      "[Epoch 9, Batch 7750] loss: 0.737\n",
      "[Epoch 9, Batch 8000] loss: 0.725\n",
      "[Epoch 9, Batch 8250] loss: 0.668\n",
      "[Epoch 9, Batch 8500] loss: 0.693\n",
      "[Epoch 9, Batch 8750] loss: 0.665\n",
      "[Epoch 9, Batch 9000] loss: 0.662\n",
      "[Epoch 9, Batch 9250] loss: 0.646\n",
      "[Epoch 9, Batch 9500] loss: 0.725\n",
      "[Epoch 9, Batch 9750] loss: 0.709\n",
      "[Epoch 9, Batch 10000] loss: 0.713\n",
      "[Epoch 10, Batch 250] loss: 0.597\n",
      "[Epoch 10, Batch 500] loss: 0.658\n",
      "[Epoch 10, Batch 750] loss: 0.645\n",
      "[Epoch 10, Batch 1000] loss: 0.675\n",
      "[Epoch 10, Batch 1250] loss: 0.673\n",
      "[Epoch 10, Batch 1500] loss: 0.666\n",
      "[Epoch 10, Batch 1750] loss: 0.571\n",
      "[Epoch 10, Batch 2000] loss: 0.647\n",
      "[Epoch 10, Batch 2250] loss: 0.649\n",
      "[Epoch 10, Batch 2500] loss: 0.653\n",
      "[Epoch 10, Batch 2750] loss: 0.562\n",
      "[Epoch 10, Batch 3000] loss: 0.645\n",
      "[Epoch 10, Batch 3250] loss: 0.664\n",
      "[Epoch 10, Batch 3500] loss: 0.666\n",
      "[Epoch 10, Batch 3750] loss: 0.673\n",
      "[Epoch 10, Batch 4000] loss: 0.661\n",
      "[Epoch 10, Batch 4250] loss: 0.663\n",
      "[Epoch 10, Batch 4500] loss: 0.646\n",
      "[Epoch 10, Batch 4750] loss: 0.701\n",
      "[Epoch 10, Batch 5000] loss: 0.638\n",
      "[Epoch 10, Batch 5250] loss: 0.617\n",
      "[Epoch 10, Batch 5500] loss: 0.643\n",
      "[Epoch 10, Batch 5750] loss: 0.633\n",
      "[Epoch 10, Batch 6000] loss: 0.690\n",
      "[Epoch 10, Batch 6250] loss: 0.646\n",
      "[Epoch 10, Batch 6500] loss: 0.617\n",
      "[Epoch 10, Batch 6750] loss: 0.594\n",
      "[Epoch 10, Batch 7000] loss: 0.658\n",
      "[Epoch 10, Batch 7250] loss: 0.638\n",
      "[Epoch 10, Batch 7500] loss: 0.695\n",
      "[Epoch 10, Batch 7750] loss: 0.623\n",
      "[Epoch 10, Batch 8000] loss: 0.636\n",
      "[Epoch 10, Batch 8250] loss: 0.612\n",
      "[Epoch 10, Batch 8500] loss: 0.646\n",
      "[Epoch 10, Batch 8750] loss: 0.692\n",
      "[Epoch 10, Batch 9000] loss: 0.650\n",
      "[Epoch 10, Batch 9250] loss: 0.655\n",
      "[Epoch 10, Batch 9500] loss: 0.646\n",
      "[Epoch 10, Batch 9750] loss: 0.700\n",
      "[Epoch 10, Batch 10000] loss: 0.670\n",
      "Finished Training\n"
     ]
    }
   ],
   "source": [
    "device = torch.device(\"cuda:0\" if torch.cuda.is_available() else \"cpu\")\n",
    "net.to(device)\n",
    "\n",
    "num_epochs = 10\n",
    "for epoch in range(num_epochs):  # loop over the dataset multiple times\n",
    "  running_loss = 0.0\n",
    "  for i, data in enumerate(trainloader, 0):\n",
    "    # get the inputs; data is a list of [inputs, labels]\n",
    "    inputs, labels = data\n",
    "    inputs, labels = inputs.to(device), labels.to(device)\n",
    "\n",
    "    # zero the parameter gradients\n",
    "    optimizer.zero_grad()\n",
    "\n",
    "    # forward + backward + optimize\n",
    "    outputs = net(inputs)\n",
    "    loss = criterion(outputs, labels)\n",
    "    loss.backward()\n",
    "    optimizer.step()\n",
    "\n",
    "    # print statistics\n",
    "    running_loss += loss.item()\n",
    "    if i % 250 == 249:    # print every 250 mini-batches\n",
    "      print(f\"[Epoch {epoch + 1}, Batch {i + 1}] loss: {running_loss / 250:.3f}\")\n",
    "      running_loss = 0.0\n",
    "\n",
    "print('Finished Training')"
   ]
  },
  {
   "cell_type": "markdown",
   "metadata": {},
   "source": [
    "Plot the training loss (and validation loss/accuracy, if recorded)."
   ]
  },
  {
   "cell_type": "code",
   "execution_count": 9,
   "metadata": {},
   "outputs": [
    {
     "data": {
      "image/png": "[encoded data removed]",
      "text/plain": [
       "<Figure size 640x480 with 1 Axes>"
      ]
     },
     "metadata": {},
     "output_type": "display_data"
    }
   ],
   "source": [
    "# Assuming the training loss was recorded during the initial training process Assuming\n",
    "epochs = range(1, num_epochs + 1)\n",
    "train_losses = []\n",
    "\n",
    "# Re-run the training loop to collect loss data\n",
    "for epoch in range(num_epochs):\n",
    "  running_loss = 0.0\n",
    "  for i, data in enumerate(trainloader, 0):\n",
    "    inputs, labels = data\n",
    "    inputs, labels = inputs.to(device), labels.to(device)\n",
    "    optimizer.zero_grad()\n",
    "    outputs = net(inputs)\n",
    "    loss = criterion(outputs, labels)\n",
    "    loss.backward()\n",
    "    optimizer.step()\n",
    "    running_loss += loss.item()\n",
    "  train_losses.append(running_loss / len(trainloader))\n",
    "\n",
    "plt.plot(epochs, train_losses, label='Training loss')\n",
    "plt.xlabel('Epochs')\n",
    "plt.ylabel('Loss')\n",
    "plt.title('Training Loss over Epochs')\n",
    "plt.legend()\n",
    "plt.show()"
   ]
  },
  {
   "cell_type": "markdown",
   "metadata": {},
   "source": [
    "## Testing your model\n",
    "Using the previously created `DataLoader` for the test set, compute the percentage of correct predictions using the highest probability prediction. \n",
    "\n",
    "If your accuracy is over 70%, great work! \n",
    "This is a hard task to exceed 70% on.\n",
    "\n",
    "If your accuracy is under 45%, you'll need to make improvements.\n",
    "Go back and check your model architecture, loss function, and optimizer to make sure they're appropriate for an image classification task."
   ]
  },
  {
   "cell_type": "code",
   "execution_count": 10,
   "metadata": {},
   "outputs": [
    {
     "name": "stdout",
     "output_type": "stream",
     "text": [
      "Accuracy of the network on the 10000 test images: 72.78%\n"
     ]
    }
   ],
   "source": [
    "correct = 0\n",
    "total = 0\n",
    "with torch.no_grad():\n",
    "  for data in testloader:\n",
    "    images, labels = data\n",
    "    images, labels = images.to(device), labels.to(device)\n",
    "    outputs = net(images)\n",
    "    _, predicted = torch.max(outputs.data, 1)\n",
    "    total += labels.size(0)\n",
    "    correct += (predicted == labels).sum().item()\n",
    "\n",
    "print(f'Accuracy of the network on the 10000 test images: {100 * correct / total:.2f}%')"
   ]
  },
  {
   "cell_type": "code",
   "execution_count": 16,
   "metadata": {},
   "outputs": [
    {
     "data": {
      "image/png": "[encoded data removed]",
      "text/plain": [
       "<Figure size 640x480 with 1 Axes>"
      ]
     },
     "metadata": {},
     "output_type": "display_data"
    },
    {
     "name": "stdout",
     "output_type": "stream",
     "text": [
      "True label: ship\n",
      "Predicted label: ship\n"
     ]
    }
   ],
   "source": [
    "# Get a random test image\n",
    "dataiter = iter(testloader)\n",
    "images, labels = next(dataiter)\n",
    "\n",
    "# Display the image\n",
    "img = images[1] / 2 + 0.5  # unnormalize\n",
    "npimg = img.numpy()\n",
    "plt.imshow(np.transpose(npimg, (1, 2, 0)))\n",
    "plt.show()\n",
    "\n",
    "# Print the true label\n",
    "print(f'True label: {classes[labels[1]]}')\n",
    "\n",
    "# Predict the label\n",
    "images = images.to(device)\n",
    "outputs = net(images)\n",
    "_, predicted = torch.max(outputs, 1)\n",
    "\n",
    "# Print the predicted label\n",
    "print(f'Predicted label: {classes[predicted[1]]}')"
   ]
  },
  {
   "cell_type": "markdown",
   "metadata": {},
   "source": [
    "## Saving your model\n",
    "Using `torch.save`, save your model for future loading."
   ]
  },
  {
   "cell_type": "code",
   "execution_count": null,
   "metadata": {},
   "outputs": [],
   "source": [
    "torch.save(net.state_dict(), 'cifar_net.pth')"
   ]
  },
  {
   "cell_type": "markdown",
   "metadata": {},
   "source": [
    "## Make a Recommendation\n",
    "\n",
    "Based on your evaluation, what is your recommendation on whether to build or buy? Explain your reasoning below."
   ]
  },
  {
   "cell_type": "markdown",
   "metadata": {},
   "source": [
    "Our model achieved an accuracy of 72.78% on the CIFAR-10 test dataset. Compared to the benchmark results, our model's performance is lower than the state-of-the-art models, which achieve accuracies ranging from 78.9% to 99.0%. Given the significant gap between our model's accuracy and the top-performing models, it may be more practical to consider using a pre-trained model or purchasing an object detection solution to achieve higher accuracy and save on development time and resources."
   ]
  }
 ],
 "metadata": {
  "kernelspec": {
   "display_name": "Python 3 (ipykernel)",
   "language": "python",
   "name": "python3"
  },
  "language_info": {
   "codemirror_mode": {
    "name": "ipython",
    "version": 3
   },
   "file_extension": ".py",
   "mimetype": "text/x-python",
   "name": "python",
   "nbconvert_exporter": "python",
   "pygments_lexer": "ipython3",
   "version": "3.12.2"
  }
 },
 "nbformat": 4,
 "nbformat_minor": 4
}
