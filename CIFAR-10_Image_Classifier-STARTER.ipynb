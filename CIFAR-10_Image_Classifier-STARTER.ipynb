{
 "cells": [
  {
   "cell_type": "markdown",
   "metadata": {},
   "source": [
    "# Introduction\n",
    "\n",
    "In this project, you will build a neural network of your own design to evaluate the CIFAR-10 dataset.\n",
    "Our target accuracy is 70%, but any accuracy over 50% is a great start.\n",
    "Some of the benchmark results on CIFAR-10 include:\n",
    "\n",
    "78.9% Accuracy | [Deep Belief Networks; Krizhevsky, 2010](https://www.cs.toronto.edu/~kriz/conv-cifar10-aug2010.pdf)\n",
    "\n",
    "90.6% Accuracy | [Maxout Networks; Goodfellow et al., 2013](https://arxiv.org/pdf/1302.4389.pdf)\n",
    "\n",
    "96.0% Accuracy | [Wide Residual Networks; Zagoruyko et al., 2016](https://arxiv.org/pdf/1605.07146.pdf)\n",
    "\n",
    "99.0% Accuracy | [GPipe; Huang et al., 2018](https://arxiv.org/pdf/1811.06965.pdf)\n",
    "\n",
    "98.5% Accuracy | [Rethinking Recurrent Neural Networks and other Improvements for ImageClassification; Nguyen et al., 2020](https://arxiv.org/pdf/2007.15161.pdf)\n",
    "\n",
    "Research with this dataset is ongoing. Notably, many of these networks are quite large and quite expensive to train. \n",
    "\n",
    "## Imports"
   ]
  },
  {
   "cell_type": "code",
   "execution_count": 1,
   "metadata": {},
   "outputs": [],
   "source": [
    "## This cell contains the essential imports you will need – DO NOT CHANGE THE CONTENTS! ##\n",
    "import torch\n",
    "import torch.nn as nn\n",
    "import torch.nn.functional as F\n",
    "import torch.optim as optim\n",
    "import torchvision\n",
    "import torchvision.transforms as transforms\n",
    "import matplotlib.pyplot as plt\n",
    "import numpy as np"
   ]
  },
  {
   "cell_type": "markdown",
   "metadata": {},
   "source": [
    "## Load the Dataset\n",
    "\n",
    "Specify your transforms as a list first.\n",
    "The transforms module is already loaded as `transforms`.\n",
    "\n",
    "CIFAR-10 is fortunately included in the torchvision module.\n",
    "Then, you can create your dataset using the `CIFAR10` object from `torchvision.datasets` ([the documentation is available here](https://pytorch.org/docs/stable/torchvision/datasets.html#cifar)).\n",
    "Make sure to specify `download=True`! \n",
    "\n",
    "Once your dataset is created, you'll also need to define a `DataLoader` from the `torch.utils.data` module for both the train and the test set."
   ]
  },
  {
   "cell_type": "code",
   "execution_count": 11,
   "metadata": {},
   "outputs": [
    {
     "name": "stdout",
     "output_type": "stream",
     "text": [
      "Files already downloaded and verified\n",
      "Files already downloaded and verified\n"
     ]
    }
   ],
   "source": [
    "# Define transforms\n",
    "transform = transforms.Compose(\n",
    "  [transforms.ToTensor(),\n",
    "   transforms.Normalize((0.5, 0.5, 0.5), (0.5, 0.5, 0.5))])\n",
    "\n",
    "# Create training set and define training dataloader\n",
    "trainset = torchvision.datasets.CIFAR10(root='./data', train=True,\n",
    "                    download=True, transform=transform)\n",
    "trainloader = torch.utils.data.DataLoader(trainset, batch_size=5,\n",
    "                      shuffle=True, num_workers=2)\n",
    "\n",
    "# Create test set and define test dataloader\n",
    "testset = torchvision.datasets.CIFAR10(root='./data', train=False,\n",
    "                     download=True, transform=transform)\n",
    "testloader = torch.utils.data.DataLoader(testset, batch_size=5,\n",
    "                     shuffle=False, num_workers=2)\n",
    "\n",
    "# The 10 classes in the dataset\n",
    "classes = ('plane', 'car', 'bird', 'cat', 'deer', 'dog', 'frog', 'horse', 'ship', 'truck')"
   ]
  },
  {
   "cell_type": "markdown",
   "metadata": {},
   "source": [
    "## Explore the Dataset\n",
    "Using matplotlib, numpy, and torch, explore the dimensions of your data.\n",
    "\n",
    "You can view images using the `show5` function defined below – it takes a data loader as an argument.\n",
    "Remember that normalized images will look really weird to you! You may want to try changing your transforms to view images.\n",
    "Typically using no transforms other than `toTensor()` works well for viewing – but not as well for training your network.\n",
    "If `show5` doesn't work, go back and check your code for creating your data loaders and your training/test sets."
   ]
  },
  {
   "cell_type": "code",
   "execution_count": 12,
   "metadata": {},
   "outputs": [],
   "source": [
    "def show5(img_loader):\n",
    "    dataiter = iter(img_loader)\n",
    "    \n",
    "    batch = next(dataiter)\n",
    "    labels = batch[1][0:5]\n",
    "    images = batch[0][0:5]\n",
    "    for i in range(5):\n",
    "        print(classes[labels[i]])\n",
    "    \n",
    "        image = images[i].numpy()\n",
    "        plt.imshow(image.T)\n",
    "        plt.show()"
   ]
  },
  {
   "cell_type": "code",
   "execution_count": 13,
   "metadata": {},
   "outputs": [
    {
     "name": "stderr",
     "output_type": "stream",
     "text": [
      "Clipping input data to the valid range for imshow with RGB data ([0..1] for floats or [0..255] for integers). Got range [-0.94509804..1.0].\n"
     ]
    },
    {
     "name": "stdout",
     "output_type": "stream",
     "text": [
      "truck\n"
     ]
    },
    {
     "data": {
      "image/png": "[encoded data removed]",
      "text/plain": [
       "<Figure size 640x480 with 1 Axes>"
      ]
     },
     "metadata": {},
     "output_type": "display_data"
    },
    {
     "name": "stderr",
     "output_type": "stream",
     "text": [
      "Clipping input data to the valid range for imshow with RGB data ([0..1] for floats or [0..255] for integers). Got range [-0.96862745..0.99215686].\n"
     ]
    },
    {
     "name": "stdout",
     "output_type": "stream",
     "text": [
      "cat\n"
     ]
    },
    {
     "data": {
      "image/png": "[encoded data removed]",
      "text/plain": [
       "<Figure size 640x480 with 1 Axes>"
      ]
     },
     "metadata": {},
     "output_type": "display_data"
    },
    {
     "name": "stderr",
     "output_type": "stream",
     "text": [
      "Clipping input data to the valid range for imshow with RGB data ([0..1] for floats or [0..255] for integers). Got range [-0.9529412..1.0].\n"
     ]
    },
    {
     "name": "stdout",
     "output_type": "stream",
     "text": [
      "truck\n"
     ]
    },
    {
     "data": {
      "image/png": "[encoded data removed]",
      "text/plain": [
       "<Figure size 640x480 with 1 Axes>"
      ]
     },
     "metadata": {},
     "output_type": "display_data"
    },
    {
     "name": "stderr",
     "output_type": "stream",
     "text": [
      "Clipping input data to the valid range for imshow with RGB data ([0..1] for floats or [0..255] for integers). Got range [-1.0..0.9372549].\n"
     ]
    },
    {
     "name": "stdout",
     "output_type": "stream",
     "text": [
      "bird\n"
     ]
    },
    {
     "data": {
      "image/png": "[encoded data removed]",
      "text/plain": [
       "<Figure size 640x480 with 1 Axes>"
      ]
     },
     "metadata": {},
     "output_type": "display_data"
    },
    {
     "name": "stderr",
     "output_type": "stream",
     "text": [
      "Clipping input data to the valid range for imshow with RGB data ([0..1] for floats or [0..255] for integers). Got range [-0.9764706..0.67058825].\n"
     ]
    },
    {
     "name": "stdout",
     "output_type": "stream",
     "text": [
      "horse\n"
     ]
    },
    {
     "data": {
      "image/png": "[encoded data removed]",
      "text/plain": [
       "<Figure size 640x480 with 1 Axes>"
      ]
     },
     "metadata": {},
     "output_type": "display_data"
    }
   ],
   "source": [
    "# Explore data\n",
    "show5(trainloader)"
   ]
  },
  {
   "cell_type": "markdown",
   "metadata": {},
   "source": [
    "## Build your Neural Network\n",
    "Using the layers in `torch.nn` (which has been imported as `nn`) and the `torch.nn.functional` module (imported as `F`), construct a neural network based on the parameters of the dataset. \n",
    "Feel free to construct a model of any architecture – feedforward, convolutional, or even something more advanced!"
   ]
  },
  {
   "cell_type": "code",
   "execution_count": 16,
   "metadata": {},
   "outputs": [],
   "source": [
    "## YOUR CODE HERE ##\n",
    "class Net(nn.Module):\n",
    "  def __init__(self):\n",
    "    super(Net, self).__init__()\n",
    "    self.conv1 = nn.Conv2d(3, 6, 5)\n",
    "    self.pool = nn.MaxPool2d(2, 2)\n",
    "    self.conv2 = nn.Conv2d(6, 16, 5)\n",
    "    self.fc1 = nn.Linear(16 * 5 * 5, 120)\n",
    "    self.fc2 = nn.Linear(120, 84)\n",
    "    self.fc3 = nn.Linear(84, 10)\n",
    "\n",
    "  def forward(self, x):\n",
    "    x = self.pool(F.relu(self.conv1(x)))\n",
    "    x = self.pool(F.relu(self.conv2(x)))\n",
    "    x = x.view(-1, 16 * 5 * 5)\n",
    "    x = F.relu(self.fc1(x))\n",
    "    x = F.relu(self.fc2(x))\n",
    "    x = self.fc3(x)\n",
    "    return x\n",
    "\n",
    "net = Net()"
   ]
  },
  {
   "cell_type": "markdown",
   "metadata": {},
   "source": [
    "Specify a loss function and an optimizer, and instantiate the model.\n",
    "\n",
    "If you use a less common loss function, please note why you chose that loss function in a comment."
   ]
  },
  {
   "cell_type": "code",
   "execution_count": 17,
   "metadata": {},
   "outputs": [],
   "source": [
    "criterion = nn.CrossEntropyLoss()  # Cross-entropy loss is suitable for multi-class classification\n",
    "optimizer = optim.SGD(net.parameters(), lr=0.001, momentum=0.9)  # Stochastic Gradient Descent with learning rate and momentum"
   ]
  },
  {
   "cell_type": "markdown",
   "metadata": {},
   "source": [
    "## Running your Neural Network\n",
    "Use whatever method you like to train your neural network, and ensure you record the average loss at each epoch. \n",
    "Don't forget to use `torch.device()` and the `.to()` method for both your model and your data if you are using GPU!\n",
    "\n",
    "If you want to print your loss during each epoch, you can use the `enumerate` function and print the loss after a set number of batches. 250 batches works well for most people!"
   ]
  },
  {
   "cell_type": "code",
   "execution_count": 18,
   "metadata": {},
   "outputs": [
    {
     "name": "stdout",
     "output_type": "stream",
     "text": [
      "[1, 250] loss: 2.304\n",
      "[1, 500] loss: 2.301\n",
      "[1, 750] loss: 2.297\n",
      "[1, 1000] loss: 2.291\n",
      "[1, 1250] loss: 2.261\n",
      "[1, 1500] loss: 2.173\n",
      "[1, 1750] loss: 2.115\n",
      "[1, 2000] loss: 2.042\n",
      "[1, 2250] loss: 1.964\n",
      "[1, 2500] loss: 1.964\n",
      "[1, 2750] loss: 1.883\n",
      "[1, 3000] loss: 1.848\n",
      "[1, 3250] loss: 1.814\n",
      "[1, 3500] loss: 1.784\n",
      "[1, 3750] loss: 1.753\n",
      "[1, 4000] loss: 1.690\n",
      "[1, 4250] loss: 1.698\n",
      "[1, 4500] loss: 1.681\n",
      "[1, 4750] loss: 1.626\n",
      "[1, 5000] loss: 1.675\n",
      "[1, 5250] loss: 1.648\n",
      "[1, 5500] loss: 1.636\n",
      "[1, 5750] loss: 1.599\n",
      "[1, 6000] loss: 1.618\n",
      "[1, 6250] loss: 1.563\n",
      "[1, 6500] loss: 1.582\n",
      "[1, 6750] loss: 1.600\n",
      "[1, 7000] loss: 1.518\n",
      "[1, 7250] loss: 1.584\n",
      "[1, 7500] loss: 1.480\n",
      "[1, 7750] loss: 1.498\n",
      "[1, 8000] loss: 1.529\n",
      "[1, 8250] loss: 1.528\n",
      "[1, 8500] loss: 1.566\n",
      "[1, 8750] loss: 1.507\n",
      "[1, 9000] loss: 1.517\n",
      "[1, 9250] loss: 1.412\n",
      "[1, 9500] loss: 1.452\n",
      "[1, 9750] loss: 1.445\n",
      "[1, 10000] loss: 1.452\n",
      "[2, 250] loss: 1.415\n",
      "[2, 500] loss: 1.420\n",
      "[2, 750] loss: 1.374\n",
      "[2, 1000] loss: 1.396\n",
      "[2, 1250] loss: 1.431\n",
      "[2, 1500] loss: 1.412\n",
      "[2, 1750] loss: 1.393\n",
      "[2, 2000] loss: 1.375\n",
      "[2, 2250] loss: 1.411\n",
      "[2, 2500] loss: 1.422\n",
      "[2, 2750] loss: 1.390\n",
      "[2, 3000] loss: 1.367\n",
      "[2, 3250] loss: 1.423\n",
      "[2, 3500] loss: 1.397\n",
      "[2, 3750] loss: 1.371\n",
      "[2, 4000] loss: 1.402\n",
      "[2, 4250] loss: 1.361\n",
      "[2, 4500] loss: 1.354\n",
      "[2, 4750] loss: 1.312\n",
      "[2, 5000] loss: 1.387\n",
      "[2, 5250] loss: 1.435\n",
      "[2, 5500] loss: 1.411\n",
      "[2, 5750] loss: 1.378\n",
      "[2, 6000] loss: 1.335\n",
      "[2, 6250] loss: 1.351\n",
      "[2, 6500] loss: 1.335\n",
      "[2, 6750] loss: 1.366\n",
      "[2, 7000] loss: 1.319\n",
      "[2, 7250] loss: 1.292\n",
      "[2, 7500] loss: 1.339\n",
      "[2, 7750] loss: 1.328\n",
      "[2, 8000] loss: 1.309\n",
      "[2, 8250] loss: 1.304\n",
      "[2, 8500] loss: 1.274\n",
      "[2, 8750] loss: 1.312\n",
      "[2, 9000] loss: 1.285\n",
      "[2, 9250] loss: 1.303\n",
      "[2, 9500] loss: 1.280\n",
      "[2, 9750] loss: 1.260\n",
      "[2, 10000] loss: 1.222\n",
      "[3, 250] loss: 1.224\n",
      "[3, 500] loss: 1.207\n",
      "[3, 750] loss: 1.198\n",
      "[3, 1000] loss: 1.234\n",
      "[3, 1250] loss: 1.218\n",
      "[3, 1500] loss: 1.290\n",
      "[3, 1750] loss: 1.274\n",
      "[3, 2000] loss: 1.246\n",
      "[3, 2250] loss: 1.188\n",
      "[3, 2500] loss: 1.240\n",
      "[3, 2750] loss: 1.279\n",
      "[3, 3000] loss: 1.274\n",
      "[3, 3250] loss: 1.199\n",
      "[3, 3500] loss: 1.172\n",
      "[3, 3750] loss: 1.275\n",
      "[3, 4000] loss: 1.263\n",
      "[3, 4250] loss: 1.158\n",
      "[3, 4500] loss: 1.160\n",
      "[3, 4750] loss: 1.186\n",
      "[3, 5000] loss: 1.183\n",
      "[3, 5250] loss: 1.239\n",
      "[3, 5500] loss: 1.201\n",
      "[3, 5750] loss: 1.203\n",
      "[3, 6000] loss: 1.160\n",
      "[3, 6250] loss: 1.171\n",
      "[3, 6500] loss: 1.236\n",
      "[3, 6750] loss: 1.265\n",
      "[3, 7000] loss: 1.226\n",
      "[3, 7250] loss: 1.256\n",
      "[3, 7500] loss: 1.204\n",
      "[3, 7750] loss: 1.200\n",
      "[3, 8000] loss: 1.219\n",
      "[3, 8250] loss: 1.187\n",
      "[3, 8500] loss: 1.141\n",
      "[3, 8750] loss: 1.168\n",
      "[3, 9000] loss: 1.191\n",
      "[3, 9250] loss: 1.212\n",
      "[3, 9500] loss: 1.218\n",
      "[3, 9750] loss: 1.210\n",
      "[3, 10000] loss: 1.176\n",
      "[4, 250] loss: 1.094\n",
      "[4, 500] loss: 1.050\n",
      "[4, 750] loss: 1.047\n",
      "[4, 1000] loss: 1.155\n",
      "[4, 1250] loss: 1.122\n",
      "[4, 1500] loss: 1.056\n",
      "[4, 1750] loss: 1.139\n",
      "[4, 2000] loss: 1.134\n",
      "[4, 2250] loss: 1.123\n",
      "[4, 2500] loss: 1.164\n",
      "[4, 2750] loss: 1.129\n",
      "[4, 3000] loss: 1.157\n",
      "[4, 3250] loss: 1.110\n",
      "[4, 3500] loss: 1.144\n",
      "[4, 3750] loss: 1.111\n",
      "[4, 4000] loss: 1.102\n",
      "[4, 4250] loss: 1.013\n",
      "[4, 4500] loss: 1.110\n",
      "[4, 4750] loss: 1.094\n",
      "[4, 5000] loss: 1.086\n",
      "[4, 5250] loss: 1.093\n",
      "[4, 5500] loss: 1.151\n",
      "[4, 5750] loss: 1.128\n",
      "[4, 6000] loss: 1.110\n",
      "[4, 6250] loss: 1.111\n",
      "[4, 6500] loss: 1.167\n",
      "[4, 6750] loss: 1.113\n",
      "[4, 7000] loss: 1.099\n",
      "[4, 7250] loss: 1.093\n",
      "[4, 7500] loss: 1.108\n",
      "[4, 7750] loss: 1.068\n",
      "[4, 8000] loss: 1.120\n",
      "[4, 8250] loss: 1.059\n",
      "[4, 8500] loss: 1.132\n",
      "[4, 8750] loss: 1.097\n",
      "[4, 9000] loss: 1.127\n",
      "[4, 9250] loss: 1.092\n",
      "[4, 9500] loss: 1.175\n",
      "[4, 9750] loss: 1.090\n",
      "[4, 10000] loss: 1.148\n",
      "[5, 250] loss: 1.051\n",
      "[5, 500] loss: 1.042\n",
      "[5, 750] loss: 1.035\n",
      "[5, 1000] loss: 1.060\n",
      "[5, 1250] loss: 1.025\n",
      "[5, 1500] loss: 1.013\n",
      "[5, 1750] loss: 0.974\n",
      "[5, 2000] loss: 1.057\n",
      "[5, 2250] loss: 1.049\n",
      "[5, 2500] loss: 1.029\n",
      "[5, 2750] loss: 1.024\n",
      "[5, 3000] loss: 1.000\n",
      "[5, 3250] loss: 1.033\n",
      "[5, 3500] loss: 1.006\n",
      "[5, 3750] loss: 1.020\n",
      "[5, 4000] loss: 1.079\n",
      "[5, 4250] loss: 1.018\n",
      "[5, 4500] loss: 1.051\n",
      "[5, 4750] loss: 1.038\n",
      "[5, 5000] loss: 1.031\n",
      "[5, 5250] loss: 1.053\n",
      "[5, 5500] loss: 0.976\n",
      "[5, 5750] loss: 1.064\n",
      "[5, 6000] loss: 1.019\n",
      "[5, 6250] loss: 1.051\n",
      "[5, 6500] loss: 1.086\n",
      "[5, 6750] loss: 1.010\n",
      "[5, 7000] loss: 1.028\n",
      "[5, 7250] loss: 1.035\n",
      "[5, 7500] loss: 1.037\n",
      "[5, 7750] loss: 1.061\n",
      "[5, 8000] loss: 1.025\n",
      "[5, 8250] loss: 1.067\n",
      "[5, 8500] loss: 1.039\n",
      "[5, 8750] loss: 1.039\n",
      "[5, 9000] loss: 1.004\n",
      "[5, 9250] loss: 1.024\n",
      "[5, 9500] loss: 1.071\n",
      "[5, 9750] loss: 1.086\n",
      "[5, 10000] loss: 1.024\n",
      "[6, 250] loss: 0.930\n",
      "[6, 500] loss: 0.942\n",
      "[6, 750] loss: 0.992\n",
      "[6, 1000] loss: 0.959\n",
      "[6, 1250] loss: 0.997\n",
      "[6, 1500] loss: 0.961\n",
      "[6, 1750] loss: 0.967\n",
      "[6, 2000] loss: 0.990\n",
      "[6, 2250] loss: 0.988\n",
      "[6, 2500] loss: 0.892\n",
      "[6, 2750] loss: 0.991\n",
      "[6, 3000] loss: 0.986\n",
      "[6, 3250] loss: 0.936\n",
      "[6, 3500] loss: 1.005\n",
      "[6, 3750] loss: 0.980\n",
      "[6, 4000] loss: 0.966\n",
      "[6, 4250] loss: 0.963\n",
      "[6, 4500] loss: 0.966\n",
      "[6, 4750] loss: 1.005\n",
      "[6, 5000] loss: 1.039\n",
      "[6, 5250] loss: 0.954\n",
      "[6, 5500] loss: 1.018\n",
      "[6, 5750] loss: 0.945\n",
      "[6, 6000] loss: 0.917\n",
      "[6, 6250] loss: 0.954\n",
      "[6, 6500] loss: 1.033\n",
      "[6, 6750] loss: 0.983\n",
      "[6, 7000] loss: 0.949\n",
      "[6, 7250] loss: 0.944\n",
      "[6, 7500] loss: 0.928\n",
      "[6, 7750] loss: 0.966\n",
      "[6, 8000] loss: 0.958\n",
      "[6, 8250] loss: 0.991\n",
      "[6, 8500] loss: 1.000\n",
      "[6, 8750] loss: 0.968\n",
      "[6, 9000] loss: 1.032\n",
      "[6, 9250] loss: 0.994\n",
      "[6, 9500] loss: 0.996\n",
      "[6, 9750] loss: 1.007\n",
      "[6, 10000] loss: 0.951\n",
      "[7, 250] loss: 0.921\n",
      "[7, 500] loss: 0.893\n",
      "[7, 750] loss: 0.924\n",
      "[7, 1000] loss: 0.906\n",
      "[7, 1250] loss: 0.836\n",
      "[7, 1500] loss: 0.923\n",
      "[7, 1750] loss: 0.925\n",
      "[7, 2000] loss: 0.845\n",
      "[7, 2250] loss: 0.956\n",
      "[7, 2500] loss: 0.854\n",
      "[7, 2750] loss: 0.890\n",
      "[7, 3000] loss: 0.946\n",
      "[7, 3250] loss: 0.921\n",
      "[7, 3500] loss: 0.928\n",
      "[7, 3750] loss: 0.929\n",
      "[7, 4000] loss: 0.937\n",
      "[7, 4250] loss: 0.915\n",
      "[7, 4500] loss: 0.922\n",
      "[7, 4750] loss: 0.963\n",
      "[7, 5000] loss: 0.946\n",
      "[7, 5250] loss: 0.908\n",
      "[7, 5500] loss: 0.971\n",
      "[7, 5750] loss: 1.008\n",
      "[7, 6000] loss: 0.976\n",
      "[7, 6250] loss: 0.887\n",
      "[7, 6500] loss: 0.893\n",
      "[7, 6750] loss: 0.883\n",
      "[7, 7000] loss: 0.965\n",
      "[7, 7250] loss: 0.954\n",
      "[7, 7500] loss: 0.934\n",
      "[7, 7750] loss: 0.953\n",
      "[7, 8000] loss: 0.989\n",
      "[7, 8250] loss: 0.886\n",
      "[7, 8500] loss: 0.912\n",
      "[7, 8750] loss: 0.953\n",
      "[7, 9000] loss: 0.880\n",
      "[7, 9250] loss: 0.913\n",
      "[7, 9500] loss: 0.938\n",
      "[7, 9750] loss: 0.955\n",
      "[7, 10000] loss: 0.912\n",
      "[8, 250] loss: 0.789\n",
      "[8, 500] loss: 0.866\n",
      "[8, 750] loss: 0.876\n",
      "[8, 1000] loss: 0.902\n",
      "[8, 1250] loss: 0.897\n",
      "[8, 1500] loss: 0.867\n",
      "[8, 1750] loss: 0.877\n",
      "[8, 2000] loss: 0.840\n",
      "[8, 2250] loss: 0.844\n",
      "[8, 2500] loss: 0.868\n",
      "[8, 2750] loss: 0.860\n",
      "[8, 3000] loss: 0.933\n",
      "[8, 3250] loss: 0.881\n",
      "[8, 3500] loss: 0.853\n",
      "[8, 3750] loss: 0.907\n",
      "[8, 4000] loss: 0.906\n",
      "[8, 4250] loss: 0.837\n",
      "[8, 4500] loss: 0.877\n",
      "[8, 4750] loss: 0.891\n",
      "[8, 5000] loss: 0.884\n",
      "[8, 5250] loss: 0.856\n",
      "[8, 5500] loss: 0.887\n",
      "[8, 5750] loss: 0.916\n",
      "[8, 6000] loss: 0.880\n",
      "[8, 6250] loss: 0.892\n",
      "[8, 6500] loss: 0.874\n",
      "[8, 6750] loss: 0.884\n",
      "[8, 7000] loss: 0.902\n",
      "[8, 7250] loss: 0.911\n",
      "[8, 7500] loss: 0.934\n",
      "[8, 7750] loss: 0.948\n",
      "[8, 8000] loss: 0.895\n",
      "[8, 8250] loss: 0.872\n",
      "[8, 8500] loss: 0.927\n",
      "[8, 8750] loss: 0.935\n",
      "[8, 9000] loss: 0.902\n",
      "[8, 9250] loss: 0.907\n",
      "[8, 9500] loss: 0.875\n",
      "[8, 9750] loss: 0.867\n",
      "[8, 10000] loss: 0.895\n",
      "[9, 250] loss: 0.834\n",
      "[9, 500] loss: 0.753\n",
      "[9, 750] loss: 0.809\n",
      "[9, 1000] loss: 0.794\n",
      "[9, 1250] loss: 0.796\n",
      "[9, 1500] loss: 0.822\n",
      "[9, 1750] loss: 0.807\n",
      "[9, 2000] loss: 0.805\n",
      "[9, 2250] loss: 0.809\n",
      "[9, 2500] loss: 0.837\n",
      "[9, 2750] loss: 0.813\n",
      "[9, 3000] loss: 0.879\n",
      "[9, 3250] loss: 0.842\n",
      "[9, 3500] loss: 0.852\n",
      "[9, 3750] loss: 0.804\n",
      "[9, 4000] loss: 0.856\n",
      "[9, 4250] loss: 0.867\n",
      "[9, 4500] loss: 0.798\n",
      "[9, 4750] loss: 0.859\n",
      "[9, 5000] loss: 0.808\n",
      "[9, 5250] loss: 0.868\n",
      "[9, 5500] loss: 0.832\n",
      "[9, 5750] loss: 0.867\n",
      "[9, 6000] loss: 0.855\n",
      "[9, 6250] loss: 0.831\n",
      "[9, 6500] loss: 0.864\n",
      "[9, 6750] loss: 0.832\n",
      "[9, 7000] loss: 0.929\n",
      "[9, 7250] loss: 0.883\n",
      "[9, 7500] loss: 0.813\n",
      "[9, 7750] loss: 0.921\n",
      "[9, 8000] loss: 0.806\n",
      "[9, 8250] loss: 0.870\n",
      "[9, 8500] loss: 0.901\n",
      "[9, 8750] loss: 0.836\n",
      "[9, 9000] loss: 0.904\n",
      "[9, 9250] loss: 0.905\n",
      "[9, 9500] loss: 0.889\n",
      "[9, 9750] loss: 0.900\n",
      "[9, 10000] loss: 0.879\n",
      "[10, 250] loss: 0.724\n",
      "[10, 500] loss: 0.803\n",
      "[10, 750] loss: 0.792\n",
      "[10, 1000] loss: 0.801\n",
      "[10, 1250] loss: 0.767\n",
      "[10, 1500] loss: 0.768\n",
      "[10, 1750] loss: 0.798\n",
      "[10, 2000] loss: 0.780\n",
      "[10, 2250] loss: 0.820\n",
      "[10, 2500] loss: 0.769\n",
      "[10, 2750] loss: 0.834\n",
      "[10, 3000] loss: 0.780\n",
      "[10, 3250] loss: 0.830\n",
      "[10, 3500] loss: 0.771\n",
      "[10, 3750] loss: 0.765\n",
      "[10, 4000] loss: 0.752\n",
      "[10, 4250] loss: 0.766\n",
      "[10, 4500] loss: 0.823\n",
      "[10, 4750] loss: 0.813\n",
      "[10, 5000] loss: 0.801\n",
      "[10, 5250] loss: 0.816\n",
      "[10, 5500] loss: 0.817\n",
      "[10, 5750] loss: 0.846\n",
      "[10, 6000] loss: 0.852\n",
      "[10, 6250] loss: 0.802\n",
      "[10, 6500] loss: 0.836\n",
      "[10, 6750] loss: 0.891\n",
      "[10, 7000] loss: 0.804\n",
      "[10, 7250] loss: 0.808\n",
      "[10, 7500] loss: 0.833\n",
      "[10, 7750] loss: 0.833\n",
      "[10, 8000] loss: 0.872\n",
      "[10, 8250] loss: 0.810\n",
      "[10, 8500] loss: 0.811\n",
      "[10, 8750] loss: 0.865\n",
      "[10, 9000] loss: 0.875\n",
      "[10, 9250] loss: 0.779\n",
      "[10, 9500] loss: 0.779\n",
      "[10, 9750] loss: 0.839\n",
      "[10, 10000] loss: 0.802\n",
      "Finished Training\n"
     ]
    }
   ],
   "source": [
    "device = torch.device(\"cuda:0\" if torch.cuda.is_available() else \"cpu\")\n",
    "net.to(device)\n",
    "\n",
    "num_epochs = 10\n",
    "for epoch in range(num_epochs):  # loop over the dataset multiple times\n",
    "  running_loss = 0.0\n",
    "  for i, data in enumerate(trainloader, 0):\n",
    "    # get the inputs; data is a list of [inputs, labels]\n",
    "    inputs, labels = data\n",
    "    inputs, labels = inputs.to(device), labels.to(device)\n",
    "\n",
    "    # zero the parameter gradients\n",
    "    optimizer.zero_grad()\n",
    "\n",
    "    # forward + backward + optimize\n",
    "    outputs = net(inputs)\n",
    "    loss = criterion(outputs, labels)\n",
    "    loss.backward()\n",
    "    optimizer.step()\n",
    "\n",
    "    # print statistics\n",
    "    running_loss += loss.item()\n",
    "    if i % 250 == 249:    # print every 250 mini-batches\n",
    "      print(f\"[{epoch + 1}, {i + 1}] loss: {running_loss / 250:.3f}\")\n",
    "      running_loss = 0.0\n",
    "\n",
    "print('Finished Training')"
   ]
  },
  {
   "cell_type": "markdown",
   "metadata": {},
   "source": [
    "Plot the training loss (and validation loss/accuracy, if recorded)."
   ]
  },
  {
   "cell_type": "code",
   "execution_count": 19,
   "metadata": {},
   "outputs": [
    {
     "data": {
      "image/png": "[encoded data removed]",
      "text/plain": [
       "<Figure size 640x480 with 1 Axes>"
      ]
     },
     "metadata": {},
     "output_type": "display_data"
    }
   ],
   "source": [
    "# Plot the training loss\n",
    "epochs = range(1, num_epochs + 1)\n",
    "train_losses = []\n",
    "\n",
    "# Re-run the training loop to collect loss data\n",
    "for epoch in range(num_epochs):\n",
    "  running_loss = 0.0\n",
    "  for i, data in enumerate(trainloader, 0):\n",
    "    inputs, labels = data\n",
    "    inputs, labels = inputs.to(device), labels.to(device)\n",
    "    optimizer.zero_grad()\n",
    "    outputs = net(inputs)\n",
    "    loss = criterion(outputs, labels)\n",
    "    loss.backward()\n",
    "    optimizer.step()\n",
    "    running_loss += loss.item()\n",
    "  train_losses.append(running_loss / len(trainloader))\n",
    "\n",
    "plt.plot(epochs, train_losses, label='Training loss')\n",
    "plt.xlabel('Epochs')\n",
    "plt.ylabel('Loss')\n",
    "plt.title('Training Loss over Epochs')\n",
    "plt.legend()\n",
    "plt.show()"
   ]
  },
  {
   "cell_type": "markdown",
   "metadata": {},
   "source": [
    "## Testing your model\n",
    "Using the previously created `DataLoader` for the test set, compute the percentage of correct predictions using the highest probability prediction. \n",
    "\n",
    "If your accuracy is over 70%, great work! \n",
    "This is a hard task to exceed 70% on.\n",
    "\n",
    "If your accuracy is under 45%, you'll need to make improvements.\n",
    "Go back and check your model architecture, loss function, and optimizer to make sure they're appropriate for an image classification task."
   ]
  },
  {
   "cell_type": "code",
   "execution_count": 22,
   "metadata": {},
   "outputs": [
    {
     "name": "stdout",
     "output_type": "stream",
     "text": [
      "Accuracy of the network on the 10000 test images: 62.36%\n"
     ]
    }
   ],
   "source": [
    "correct = 0\n",
    "total = 0\n",
    "with torch.no_grad():\n",
    "  for data in testloader:\n",
    "    images, labels = data\n",
    "    images, labels = images.to(device), labels.to(device)\n",
    "    outputs = net(images)\n",
    "    _, predicted = torch.max(outputs.data, 1)\n",
    "    total += labels.size(0)\n",
    "    correct += (predicted == labels).sum().item()\n",
    "\n",
    "print(f'Accuracy of the network on the 10000 test images: {100 * correct / total:.2f}%')"
   ]
  },
  {
   "cell_type": "markdown",
   "metadata": {},
   "source": [
    "## Saving your model\n",
    "Using `torch.save`, save your model for future loading."
   ]
  },
  {
   "cell_type": "code",
   "execution_count": null,
   "metadata": {},
   "outputs": [],
   "source": [
    "torch.save(net.state_dict(), 'cifar_net.pth')"
   ]
  },
  {
   "cell_type": "markdown",
   "metadata": {},
   "source": [
    "## Make a Recommendation\n",
    "\n",
    "Based on your evaluation, what is your recommendation on whether to build or buy? Explain your reasoning below."
   ]
  },
  {
   "cell_type": "markdown",
   "metadata": {},
   "source": [
    "\n",
    "\n",
    "**Double click this cell to modify it**\n",
    "\n"
   ]
  }
 ],
 "metadata": {
  "kernelspec": {
   "display_name": "base",
   "language": "python",
   "name": "python3"
  },
  "language_info": {
   "codemirror_mode": {
    "name": "ipython",
    "version": 3
   },
   "file_extension": ".py",
   "mimetype": "text/x-python",
   "name": "python",
   "nbconvert_exporter": "python",
   "pygments_lexer": "ipython3",
   "version": "3.12.2"
  }
 },
 "nbformat": 4,
 "nbformat_minor": 4
}
